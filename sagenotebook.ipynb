{
 "cells": [
  {
   "cell_type": "code",
   "execution_count": 2,
   "id": "incoming-penny",
   "metadata": {},
   "outputs": [
    {
     "name": "stdout",
     "output_type": "stream",
     "text": [
      "first value: 450\n",
      "second value: 10\n",
      "Answer is: 45.0\n"
     ]
    }
   ],
   "source": [
    "a = 450\n",
    "b = 10\n",
    "c = a/b\n",
    "print('first value:', a)\n",
    "print('second value:', b)\n",
    "print('Answer is:', c)"
   ]
  },
  {
   "cell_type": "code",
   "execution_count": null,
   "id": "chinese-category",
   "metadata": {},
   "outputs": [],
   "source": []
  }
 ],
 "metadata": {
  "kernelspec": {
   "display_name": "conda_python3",
   "language": "python",
   "name": "conda_python3"
  },
  "language_info": {
   "codemirror_mode": {
    "name": "ipython",
    "version": 3
   },
   "file_extension": ".py",
   "mimetype": "text/x-python",
   "name": "python",
   "nbconvert_exporter": "python",
   "pygments_lexer": "ipython3",
   "version": "3.6.10"
  }
 },
 "nbformat": 4,
 "nbformat_minor": 5
}
